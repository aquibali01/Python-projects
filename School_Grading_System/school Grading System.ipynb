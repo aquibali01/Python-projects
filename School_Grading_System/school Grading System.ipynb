{
 "cells": [
  {
   "cell_type": "code",
   "execution_count": 1,
   "metadata": {},
   "outputs": [
    {
     "name": "stdout",
     "output_type": "stream",
     "text": [
      "Unfortunately You have \n",
      "Grade = Failed\n",
      "Percentage = 44.2\n",
      "obtained marks = 221\n"
     ]
    }
   ],
   "source": [
    "#program for the school grading system\n",
    "total_marks = 500\n",
    "#assigning marks to subsject\n",
    "maths , english , urdu , physics , chemisrty = (60, 50, 36, 37, 38 )\n",
    "#coverting the data type to integer\n",
    "obtained_marks = int(maths) + int(english) + int(urdu) + int(physics) + int(chemisrty)\n",
    "#calculating the percentage\n",
    "percentage = (obtained_marks/total_marks)*100\n",
    "#code for the grading \n",
    "grade = \"\"\n",
    "if percentage >= 90:                                                 #if this condition is true remaining conditions are not tested\n",
    "    print(\"Congratulation! You have\", grade, \"grade\")\n",
    "    grade = \"A+\"\n",
    "elif percentage >= 80:\n",
    "    print(\"Great! You have\", grade, \"grade\")\n",
    "    grade = \"A\"\n",
    "elif percentage >= 70:\n",
    "    grade = \"B\"\n",
    "    print(\"Good! You have\", grade, \"grade\")\n",
    "elif percentage >= 60:\n",
    "    grade = \"C\"\n",
    "    print(\"Fair! You have\",grade, \"grade\")\n",
    "    grade = \"C\"\n",
    "else:\n",
    "    print(\"Unfortunately You have\", grade)\n",
    "    grade= \"Failed\"\n",
    "    \n",
    "print(\"Grade =\", grade)\n",
    "print(\"Percentage =\", percentage)\n",
    "print(\"obtained marks =\", obtained_marks)"
   ]
  },
  {
   "cell_type": "code",
   "execution_count": null,
   "metadata": {},
   "outputs": [],
   "source": []
  }
 ],
 "metadata": {
  "kernelspec": {
   "display_name": "Python 3",
   "language": "python",
   "name": "python3"
  },
  "language_info": {
   "codemirror_mode": {
    "name": "ipython",
    "version": 3
   },
   "file_extension": ".py",
   "mimetype": "text/x-python",
   "name": "python",
   "nbconvert_exporter": "python",
   "pygments_lexer": "ipython3",
   "version": "3.7.1"
  }
 },
 "nbformat": 4,
 "nbformat_minor": 2
}
