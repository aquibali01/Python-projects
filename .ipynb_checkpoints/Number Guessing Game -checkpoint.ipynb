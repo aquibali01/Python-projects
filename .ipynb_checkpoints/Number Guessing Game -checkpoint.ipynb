{
 "cells": [
  {
   "cell_type": "code",
   "execution_count": null,
   "metadata": {},
   "outputs": [],
   "source": [
    "#importing getpass module to hide the input number\n",
    "import getpass\n",
    "\n",
    "HiddenNumber = int(getpass.getpass('Enter the Hidden number :'))\n",
    "\n",
    "#Basic name and initial instruction\n",
    "Name = input(\"What is your name ? \")\n",
    "print(f\"Welcome {Name} ! \\nLet's a play a guessing game \\nYou have to guess a number and you have only 5 guesses  \")\n",
    "#Inputting the number to guess\n",
    "GuessNumber = int(input(\"Guess The number: \"))\n",
    "guessCount = 5\n",
    "#Code for the guessing game \n",
    "while GuessNumber != HiddenNumber and guessCount > 1:\n",
    "    guessCount-=1\n",
    "    if GuessNumber < HiddenNumber:\n",
    "        print(f\"Wrong answer ! you should increase the number\" )\n",
    "    elif GuessNumber > HiddenNumber:\n",
    "        print(f\"Wrong answer! you should decrease the number\")\n",
    "    print(f\"You have {guessCount} guesses left\")\n",
    "    GuessNumber = int(input(\"Guess The number: \"))\n",
    "    if GuessNumber == HiddenNumber:\n",
    "        print(\"You Got it !! \")\n",
    "        print(f\"You guessed in {6-guessCount} guesses\")\n",
    "    elif guessCount == 1:\n",
    "        print(\"Game over !!\")\n",
    "        print(f\"Correct answer was {HiddenNumber}\")\n",
    "if GuessNumber == HiddenNumber and guessCount == 5:\n",
    "    print(\"You Got it !!\")\n",
    "    print(\"You guessed in first attempt ! \")\n",
    "    "
   ]
  }
 ],
 "metadata": {
  "kernelspec": {
   "display_name": "Python 3",
   "language": "python",
   "name": "python3"
  },
  "language_info": {
   "codemirror_mode": {
    "name": "ipython",
    "version": 3
   },
   "file_extension": ".py",
   "mimetype": "text/x-python",
   "name": "python",
   "nbconvert_exporter": "python",
   "pygments_lexer": "ipython3",
   "version": "3.7.1"
  }
 },
 "nbformat": 4,
 "nbformat_minor": 2
}
