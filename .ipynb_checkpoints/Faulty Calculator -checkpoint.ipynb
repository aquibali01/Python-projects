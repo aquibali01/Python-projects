{
 "cells": [
  {
   "cell_type": "code",
   "execution_count": null,
   "metadata": {},
   "outputs": [],
   "source": [
    "#faulty calculator\n",
    "operator = input(\"enter the operator +,-,*,/: \")\n",
    "firstNumber = int(input(\"Enter the first number: \"))\n",
    "secondNumber = int(input(\"Enter the second number: \"))\n",
    "\n",
    "result = 0\n",
    "if operator == \"+\" and firstNumber == 56 and secondNumber == 9 :\n",
    "    result = 77\n",
    "    print(result)\n",
    "elif operator == \"+\"  :\n",
    "    result = firstNumber + secondNumber\n",
    "    print(result)\n",
    "elif operator == \"-\":\n",
    "    result = firstNumber - secondNumber\n",
    "    print(result)\n",
    "elif operator == \"*\" and firstNumber == 45 and secondNumber == 3:\n",
    "    result = 555\n",
    "    print(result)\n",
    "elif operator == \"*\":\n",
    "    result = firstNumber * secondNumber\n",
    "    print(result)\n",
    "elif operator == \"/\" and firstNumber == 56 and secondNumber == 6:\n",
    "    result = 4\n",
    "    print(result)\n",
    "elif operator == \"/\":\n",
    "    result = firstNumber / secondNumber\n",
    "    print(result)\n",
    "\n",
    "    "
   ]
  }
 ],
 "metadata": {
  "kernelspec": {
   "display_name": "Python 3",
   "language": "python",
   "name": "python3"
  },
  "language_info": {
   "codemirror_mode": {
    "name": "ipython",
    "version": 3
   },
   "file_extension": ".py",
   "mimetype": "text/x-python",
   "name": "python",
   "nbconvert_exporter": "python",
   "pygments_lexer": "ipython3",
   "version": "3.7.1"
  }
 },
 "nbformat": 4,
 "nbformat_minor": 2
}
