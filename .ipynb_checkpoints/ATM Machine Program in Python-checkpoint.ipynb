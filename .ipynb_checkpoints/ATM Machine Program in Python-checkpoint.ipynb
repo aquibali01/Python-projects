{
 "cells": [
  {
   "cell_type": "code",
   "execution_count": null,
   "metadata": {},
   "outputs": [],
   "source": [
    "# program for the ATM machine using while loop\n",
    "username = input(\"Enter your username : \")\n",
    "password = int(input(\"Enter the password : \"))\n",
    "answer = 0\n",
    "#setting username and password\n",
    "if username == \"aquib\" and password == 12345:\n",
    "    print(\"############### ACCESS GRANTED #################\")\n",
    "    print(\"press 1 to deposit money\")\n",
    "    print(\"press 2 to withdraw money\")\n",
    "    print(\"press 3 to check balance\")\n",
    "    print(\"press 4 to quit\")\n",
    "    Acount_balance = int()\n",
    "    while answer != 4:\n",
    "        answer = int(input(\"Enter the number :  \"))\n",
    "#code for the money deposit feature\n",
    "        if answer == 1:\n",
    "            Amount_to_deposit = int(input(\"Enter the amount to deposit : \"))\n",
    "            print(Amount_to_deposit, \"has been deposited\")\n",
    "            Acount_balance += Amount_to_deposit\n",
    "            print(\"Your new account balance is:\" ,Acount_balance)\n",
    "#code for the money withdraw feature        \n",
    "        elif answer == 2:\n",
    "            Amount_to_withdraw = int(input(\"Enter the amount to withdraw : \"))\n",
    "            if Acount_balance >= Amount_to_withdraw:\n",
    "                print(Amount_to_withdraw, \"has been withdrawn : \")\n",
    "                Acount_balance -= Amount_to_withdraw\n",
    "                print(\"Your new account balance is\" ,Acount_balance)\n",
    "            else:\n",
    "                print(\"You do not have sufficient balance\")\n",
    "# code for the balance inquiry\n",
    "        elif answer == 3:\n",
    "            print(\"Your account balance is: \",Acount_balance)\n",
    "#Solution for the wrong input\n",
    "        elif answer > 4:\n",
    "            print(\"Please enter number 1 to 4\")\n",
    "        else:\n",
    "            print(\"Thank you for using ATM \")\n",
    "else:\n",
    "    print(\"############### ACCESS DENIED ##################\")\n",
    "\n",
    "    "
   ]
  }
 ],
 "metadata": {
  "kernelspec": {
   "display_name": "Python 3",
   "language": "python",
   "name": "python3"
  },
  "language_info": {
   "codemirror_mode": {
    "name": "ipython",
    "version": 3
   },
   "file_extension": ".py",
   "mimetype": "text/x-python",
   "name": "python",
   "nbconvert_exporter": "python",
   "pygments_lexer": "ipython3",
   "version": "3.7.1"
  }
 },
 "nbformat": 4,
 "nbformat_minor": 2
}
